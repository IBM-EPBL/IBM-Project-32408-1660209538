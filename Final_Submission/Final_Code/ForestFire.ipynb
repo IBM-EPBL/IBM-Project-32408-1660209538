{
 "cells": [
  {
   "cell_type": "code",
   "execution_count": 4,
   "metadata": {},
   "outputs": [],
   "source": [
    "\n",
    "import os, types\n",
    "import pandas as pd\n",
    "from botocore.client import Config\n",
    "import ibm_boto3\n",
    "\n",
    "def __iter__(self): return 0\n",
    "\n",
    "# @hidden_cell\n",
    "# The following code accesses a file in your IBM Cloud Object Storage. It includes your credentials.\n",
    "# You might want to remove those credentials before you share the notebook.\n",
    "cos_client = ibm_boto3.client(service_name='s3',\n",
    "    ibm_api_key_id='TZF0HDYpFwXDzuDIpXfWmCnIpwByLziPqcp9CfptkWaL',\n",
    "    ibm_auth_endpoint=\"https://iam.cloud.ibm.com/oidc/token\",\n",
    "    config=Config(signature_version='oauth'),\n",
    "    endpoint_url='https://s3.private.us.cloud-object-storage.appdomain.cloud')\n",
    "\n",
    "bucket = 'cnn-donotdelete-pr-chivj41em9ccer'\n",
    "object_key = 'archive.zip'\n",
    "\n",
    "streaming_body_1 = cos_client.get_object(Bucket=bucket, Key=object_key)['Body']\n",
    "\n",
    "# Your data file was loaded into a botocore.response.StreamingBody object.\n",
    "# Please read the documentation of ibm_boto3 and pandas to learn more about the possibilities to load the data.\n",
    "# ibm_boto3 documentation: https://ibm.github.io/ibm-cos-sdk-python/\n",
    "# pandas documentation: http://pandas.pydata.org/\n"
   ]
  },
  {
   "cell_type": "code",
   "execution_count": 5,
   "metadata": {},
   "outputs": [],
   "source": [
    "from io import BytesIO\n",
    "import zipfile\n",
    "unzip=zipfile.ZipFile(BytesIO(streaming_body_1.read()),'r')\n",
    "file_paths=unzip.namelist()\n",
    "for path in file_paths:\n",
    "    unzip.extract(path)"
   ]
  },
  {
   "cell_type": "code",
   "execution_count": 6,
   "metadata": {},
   "outputs": [
    {
     "data": {
      "text/plain": [
       "'/home/wsuser/work'"
      ]
     },
     "execution_count": 6,
     "metadata": {},
     "output_type": "execute_result"
    }
   ],
   "source": [
    "pwd"
   ]
  },
  {
   "cell_type": "code",
   "execution_count": 10,
   "metadata": {},
   "outputs": [],
   "source": [
    "import os\n",
    "filenames=os.listdir('/home/wsuser/work/Dataset/Dataset/train_set')"
   ]
  },
  {
   "cell_type": "code",
   "execution_count": 11,
   "metadata": {},
   "outputs": [
    {
     "name": "stdout",
     "output_type": "stream",
     "text": [
      "\u001b[31mERROR: Could not find a version that satisfies the requirement libgl1-mesa-dev (from versions: none)\u001b[0m\r\n",
      "\u001b[31mERROR: No matching distribution found for libgl1-mesa-dev\u001b[0m\r\n"
     ]
    }
   ],
   "source": [
    "!pip install libgl1-mesa-dev\n",
    "import tensorflow as tf\n",
    "import numpy as np\n",
    "from tensorflow import keras\n",
    "import os\n",
    "from tensorflow.keras.preprocessing.image import ImageDataGenerator\n",
    "from tensorflow.keras.preprocessing import image"
   ]
  },
  {
   "cell_type": "code",
   "execution_count": 12,
   "metadata": {},
   "outputs": [],
   "source": [
    "#Define the parameters/arguments for ImageDataGenerator class"
   ]
  },
  {
   "cell_type": "code",
   "execution_count": 13,
   "metadata": {},
   "outputs": [],
   "source": [
    "train=ImageDataGenerator(rescale=1./255,shear_range=0.2,rotation_range=180,zoom_range=0.2,horizontal_flip=True)\n",
    "train = ImageDataGenerator(rescale=1/255)\n",
    "test = ImageDataGenerator(rescale=1/255)"
   ]
  },
  {
   "cell_type": "code",
   "execution_count": 14,
   "metadata": {},
   "outputs": [],
   "source": [
    "# Applying ImageDataGenerator functionality to trainset"
   ]
  },
  {
   "cell_type": "code",
   "execution_count": 15,
   "metadata": {},
   "outputs": [
    {
     "name": "stdout",
     "output_type": "stream",
     "text": [
      "Found 436 images belonging to 2 classes.\n"
     ]
    }
   ],
   "source": [
    "x_train = train.flow_from_directory(\"/home/wsuser/work/Dataset/Dataset/train_set\",\n",
    "                                          target_size=(64,64),\n",
    "                                          batch_size = 32,\n",
    "                                          class_mode = 'binary' )"
   ]
  },
  {
   "cell_type": "code",
   "execution_count": 16,
   "metadata": {},
   "outputs": [],
   "source": [
    "#Applying ImageDataGenerator functionality to testset"
   ]
  },
  {
   "cell_type": "code",
   "execution_count": 17,
   "metadata": {},
   "outputs": [
    {
     "name": "stdout",
     "output_type": "stream",
     "text": [
      "Found 121 images belonging to 2 classes.\n"
     ]
    }
   ],
   "source": [
    "x_test = test.flow_from_directory(\"/home/wsuser/work/Dataset/Dataset/test_set\",\n",
    "                                          target_size=(64,64),\n",
    "                                          batch_size = 32,\n",
    "                                          class_mode = 'binary' )"
   ]
  },
  {
   "cell_type": "code",
   "execution_count": 18,
   "metadata": {},
   "outputs": [
    {
     "data": {
      "text/plain": [
       "{'forest': 0, 'with fire': 1}"
      ]
     },
     "execution_count": 18,
     "metadata": {},
     "output_type": "execute_result"
    }
   ],
   "source": [
    "x_test.class_indices"
   ]
  },
  {
   "cell_type": "code",
   "execution_count": 19,
   "metadata": {},
   "outputs": [],
   "source": [
    "from keras.models import Sequential\n",
    "from keras.layers import Dense\n",
    "from keras.layers import Convolution2D\n",
    "from keras.layers import MaxPooling2D\n",
    "from keras.layers import Flatten\n",
    "import warnings\n",
    "warnings.filterwarnings('ignore')"
   ]
  },
  {
   "cell_type": "code",
   "execution_count": 20,
   "metadata": {},
   "outputs": [],
   "source": [
    "#Initializing the model"
   ]
  },
  {
   "cell_type": "code",
   "execution_count": 21,
   "metadata": {},
   "outputs": [],
   "source": [
    "model =Sequential()"
   ]
  },
  {
   "cell_type": "code",
   "execution_count": 22,
   "metadata": {},
   "outputs": [],
   "source": [
    "# Add CNN Layer"
   ]
  },
  {
   "cell_type": "code",
   "execution_count": 23,
   "metadata": {},
   "outputs": [],
   "source": [
    "model.add(Convolution2D(32,(3,3),input_shape=(64,64,3),activation='relu'))\n",
    "model.add(MaxPooling2D(pool_size=(2,2)))\n",
    "model.add(Flatten())"
   ]
  },
  {
   "cell_type": "code",
   "execution_count": 24,
   "metadata": {},
   "outputs": [],
   "source": [
    "# Add Hidden Layer"
   ]
  },
  {
   "cell_type": "code",
   "execution_count": 25,
   "metadata": {},
   "outputs": [],
   "source": [
    "model.add(Dense(150,activation='relu'))\n",
    "model.add(Dense(1,activation='sigmoid'))"
   ]
  },
  {
   "cell_type": "code",
   "execution_count": 26,
   "metadata": {},
   "outputs": [],
   "source": [
    "# Configure the learning process"
   ]
  },
  {
   "cell_type": "code",
   "execution_count": 27,
   "metadata": {},
   "outputs": [],
   "source": [
    "model.compile(loss = 'binary_crossentropy',\n",
    "              optimizer = \"adam\",\n",
    "              metrics = [\"accuracy\"])"
   ]
  },
  {
   "cell_type": "code",
   "execution_count": 28,
   "metadata": {},
   "outputs": [],
   "source": [
    "model.save(\"/home/wsuser/work/archive(1)/forest1.h5\")"
   ]
  },
  {
   "cell_type": "code",
   "execution_count": 29,
   "metadata": {},
   "outputs": [],
   "source": [
    "predictions = model.predict(x_test)\n",
    "predictions = np.round(predictions)"
   ]
  },
  {
   "cell_type": "code",
   "execution_count": 30,
   "metadata": {},
   "outputs": [
    {
     "data": {
      "text/plain": [
       "array([[0.],\n",
       "       [0.],\n",
       "       [0.],\n",
       "       [0.],\n",
       "       [0.],\n",
       "       [0.],\n",
       "       [0.],\n",
       "       [0.],\n",
       "       [0.],\n",
       "       [0.],\n",
       "       [0.],\n",
       "       [0.],\n",
       "       [0.],\n",
       "       [0.],\n",
       "       [1.],\n",
       "       [0.],\n",
       "       [0.],\n",
       "       [0.],\n",
       "       [0.],\n",
       "       [1.],\n",
       "       [1.],\n",
       "       [0.],\n",
       "       [0.],\n",
       "       [0.],\n",
       "       [0.],\n",
       "       [0.],\n",
       "       [0.],\n",
       "       [0.],\n",
       "       [1.],\n",
       "       [0.],\n",
       "       [0.],\n",
       "       [0.],\n",
       "       [1.],\n",
       "       [0.],\n",
       "       [0.],\n",
       "       [0.],\n",
       "       [0.],\n",
       "       [0.],\n",
       "       [0.],\n",
       "       [0.],\n",
       "       [0.],\n",
       "       [0.],\n",
       "       [0.],\n",
       "       [0.],\n",
       "       [0.],\n",
       "       [0.],\n",
       "       [0.],\n",
       "       [0.],\n",
       "       [0.],\n",
       "       [0.],\n",
       "       [0.],\n",
       "       [0.],\n",
       "       [0.],\n",
       "       [0.],\n",
       "       [0.],\n",
       "       [1.],\n",
       "       [1.],\n",
       "       [0.],\n",
       "       [0.],\n",
       "       [0.],\n",
       "       [1.],\n",
       "       [0.],\n",
       "       [0.],\n",
       "       [0.],\n",
       "       [1.],\n",
       "       [0.],\n",
       "       [0.],\n",
       "       [1.],\n",
       "       [1.],\n",
       "       [0.],\n",
       "       [0.],\n",
       "       [0.],\n",
       "       [0.],\n",
       "       [0.],\n",
       "       [0.],\n",
       "       [0.],\n",
       "       [0.],\n",
       "       [0.],\n",
       "       [0.],\n",
       "       [0.],\n",
       "       [0.],\n",
       "       [0.],\n",
       "       [1.],\n",
       "       [0.],\n",
       "       [0.],\n",
       "       [0.],\n",
       "       [0.],\n",
       "       [0.],\n",
       "       [0.],\n",
       "       [0.],\n",
       "       [0.],\n",
       "       [0.],\n",
       "       [0.],\n",
       "       [0.],\n",
       "       [0.],\n",
       "       [0.],\n",
       "       [0.],\n",
       "       [0.],\n",
       "       [0.],\n",
       "       [0.],\n",
       "       [0.],\n",
       "       [0.],\n",
       "       [0.],\n",
       "       [0.],\n",
       "       [0.],\n",
       "       [1.],\n",
       "       [0.],\n",
       "       [0.],\n",
       "       [0.],\n",
       "       [0.],\n",
       "       [0.],\n",
       "       [0.],\n",
       "       [1.],\n",
       "       [0.],\n",
       "       [0.],\n",
       "       [0.],\n",
       "       [0.],\n",
       "       [0.],\n",
       "       [0.],\n",
       "       [0.],\n",
       "       [0.]], dtype=float32)"
      ]
     },
     "execution_count": 30,
     "metadata": {},
     "output_type": "execute_result"
    }
   ],
   "source": [
    "predictions"
   ]
  },
  {
   "cell_type": "code",
   "execution_count": 31,
   "metadata": {},
   "outputs": [
    {
     "name": "stdout",
     "output_type": "stream",
     "text": [
      "121\n"
     ]
    }
   ],
   "source": [
    "print(len(predictions))"
   ]
  },
  {
   "cell_type": "code",
   "execution_count": 33,
   "metadata": {},
   "outputs": [],
   "source": [
    "\n",
    "from keras.models import load_model\n",
    "import tensorflow as tf\n",
    "from tensorflow.keras.preprocessing import image\n",
    "import numpy as np\n"
   ]
  },
  {
   "cell_type": "code",
   "execution_count": 34,
   "metadata": {},
   "outputs": [],
   "source": [
    "model = load_model(\"/home/wsuser/work/archive(1)/forest1.h5\")"
   ]
  },
  {
   "cell_type": "code",
   "execution_count": 35,
   "metadata": {},
   "outputs": [],
   "source": [
    "def predictImage(filename):\n",
    "  img1 = image.load_img(filename,target_size=(64,64))\n",
    "  Y = image.img_to_array(img1)\n",
    "  X = np.expand_dims(Y,axis=0)\n",
    "  val = model.predict(X)\n",
    "  print(val)\n",
    "  if val == 1:\n",
    "    print(\" fire\")\n",
    "  elif val == 0:\n",
    "      print(\"no fire\")"
   ]
  },
  {
   "cell_type": "code",
   "execution_count": 37,
   "metadata": {},
   "outputs": [
    {
     "name": "stdout",
     "output_type": "stream",
     "text": [
      "[[1.]]\n",
      " fire\n"
     ]
    }
   ],
   "source": [
    "predictImage(\"/home/wsuser/work/Dataset/Dataset/test_set/with fire/19464620_401.jpg\")"
   ]
  },
  {
   "cell_type": "code",
   "execution_count": 38,
   "metadata": {},
   "outputs": [
    {
     "name": "stdout",
     "output_type": "stream",
     "text": [
      "Collecting twilio\n",
      "  Downloading twilio-7.15.3-py2.py3-none-any.whl (1.4 MB)\n",
      "\u001b[K     |████████████████████████████████| 1.4 MB 18.1 MB/s eta 0:00:01\n",
      "\u001b[?25hRequirement already satisfied: pytz in /opt/conda/envs/Python-3.9/lib/python3.9/site-packages (from twilio) (2021.3)\n",
      "Requirement already satisfied: requests>=2.0.0 in /opt/conda/envs/Python-3.9/lib/python3.9/site-packages (from twilio) (2.26.0)\n",
      "Requirement already satisfied: PyJWT<3.0.0,>=2.0.0 in /opt/conda/envs/Python-3.9/lib/python3.9/site-packages (from twilio) (2.4.0)\n",
      "Requirement already satisfied: urllib3<1.27,>=1.21.1 in /opt/conda/envs/Python-3.9/lib/python3.9/site-packages (from requests>=2.0.0->twilio) (1.26.7)\n",
      "Requirement already satisfied: idna<4,>=2.5 in /opt/conda/envs/Python-3.9/lib/python3.9/site-packages (from requests>=2.0.0->twilio) (3.3)\n",
      "Requirement already satisfied: certifi>=2017.4.17 in /opt/conda/envs/Python-3.9/lib/python3.9/site-packages (from requests>=2.0.0->twilio) (2022.9.24)\n",
      "Requirement already satisfied: charset-normalizer~=2.0.0 in /opt/conda/envs/Python-3.9/lib/python3.9/site-packages (from requests>=2.0.0->twilio) (2.0.4)\n",
      "Installing collected packages: twilio\n",
      "Successfully installed twilio-7.15.3\n",
      "Note: you may need to restart the kernel to use updated packages.\n"
     ]
    }
   ],
   "source": [
    "pip install twilio"
   ]
  },
  {
   "cell_type": "code",
   "execution_count": 39,
   "metadata": {},
   "outputs": [
    {
     "name": "stdout",
     "output_type": "stream",
     "text": [
      "Collecting playsound\n",
      "  Downloading playsound-1.3.0.tar.gz (7.7 kB)\n",
      "Building wheels for collected packages: playsound\n",
      "  Building wheel for playsound (setup.py) ... \u001b[?25ldone\n",
      "\u001b[?25h  Created wheel for playsound: filename=playsound-1.3.0-py3-none-any.whl size=7037 sha256=c71c4528378640758fa5e13bfdff1aa5973f08c37b35f133567cf18a26362962\n",
      "  Stored in directory: /tmp/wsuser/.cache/pip/wheels/ba/39/54/c8f7ff9a88a644d3c58b4dec802d90b79a2e0fb2a6b884bf82\n",
      "Successfully built playsound\n",
      "Installing collected packages: playsound\n",
      "Successfully installed playsound-1.3.0\n",
      "Note: you may need to restart the kernel to use updated packages.\n"
     ]
    }
   ],
   "source": [
    "pip install playsound"
   ]
  },
  {
   "cell_type": "code",
   "execution_count": 40,
   "metadata": {},
   "outputs": [
    {
     "name": "stderr",
     "output_type": "stream",
     "text": [
      "playsound is relying on another python subprocess. Please use `pip install pygobject` if you want playsound to run more efficiently.\n"
     ]
    }
   ],
   "source": [
    "import numpy as np\n",
    "from keras.preprocessing import image\n",
    "from keras.models import load_model\n",
    "from twilio.rest import Client\n",
    "from playsound import playsound"
   ]
  },
  {
   "cell_type": "code",
   "execution_count": 41,
   "metadata": {},
   "outputs": [],
   "source": [
    "model = load_model(r'/home/wsuser/work/archive(1)/forest1.h5')\n",
    "\n",
    "name = ['forest','with forest']"
   ]
  },
  {
   "cell_type": "code",
   "execution_count": 42,
   "metadata": {},
   "outputs": [],
   "source": [
    "#Creating An Account In Twilio Service"
   ]
  },
  {
   "cell_type": "code",
   "execution_count": 43,
   "metadata": {},
   "outputs": [
    {
     "name": "stdout",
     "output_type": "stream",
     "text": [
      "Collecting pygobject\n",
      "  Downloading PyGObject-3.42.2.tar.gz (719 kB)\n",
      "\u001b[K     |████████████████████████████████| 719 kB 21.4 MB/s eta 0:00:01\n",
      "\u001b[?25h  Installing build dependencies ... \u001b[?25lerror\n",
      "\u001b[31m  ERROR: Command errored out with exit status 1:\n",
      "   command: /opt/conda/envs/Python-3.9/bin/python /tmp/wsuser/pip-standalone-pip-hi_xg440/__env_pip__.zip/pip install --ignore-installed --no-user --prefix /tmp/wsuser/pip-build-env-8k_epkjp/overlay --no-warn-script-location --no-binary :none: --only-binary :none: -i https://pypi.org/simple -- setuptools wheel pycairo\n",
      "       cwd: None\n",
      "  Complete output (38 lines):\n",
      "  Collecting setuptools\n",
      "    Downloading setuptools-65.5.1-py3-none-any.whl (1.2 MB)\n",
      "  Collecting wheel\n",
      "    Downloading wheel-0.38.4-py3-none-any.whl (36 kB)\n",
      "  Collecting pycairo\n",
      "    Downloading pycairo-1.21.0.tar.gz (340 kB)\n",
      "    Installing build dependencies: started\n",
      "    Installing build dependencies: finished with status 'done'\n",
      "    Getting requirements to build wheel: started\n",
      "    Getting requirements to build wheel: finished with status 'done'\n",
      "      Preparing wheel metadata: started\n",
      "      Preparing wheel metadata: finished with status 'done'\n",
      "  Building wheels for collected packages: pycairo\n",
      "    Building wheel for pycairo (PEP 517): started\n",
      "    Building wheel for pycairo (PEP 517): finished with status 'error'\n",
      "    ERROR: Command errored out with exit status 1:\n",
      "     command: /opt/conda/envs/Python-3.9/bin/python /tmp/wsuser/tmpa2tu9nml_in_process.py build_wheel /tmp/wsuser/tmpxph7zrir\n",
      "         cwd: /tmp/wsuser/pip-install-pgwrfmhz/pycairo_ec1d64a697bd414a866c3536947aafa0\n",
      "    Complete output (15 lines):\n",
      "    running bdist_wheel\n",
      "    running build\n",
      "    running build_py\n",
      "    creating build\n",
      "    creating build/lib.linux-x86_64-cpython-39\n",
      "    creating build/lib.linux-x86_64-cpython-39/cairo\n",
      "    copying cairo/__init__.py -> build/lib.linux-x86_64-cpython-39/cairo\n",
      "    copying cairo/__init__.pyi -> build/lib.linux-x86_64-cpython-39/cairo\n",
      "    copying cairo/py.typed -> build/lib.linux-x86_64-cpython-39/cairo\n",
      "    running build_ext\n",
      "    Package cairo was not found in the pkg-config search path.\n",
      "    Perhaps you should add the directory containing `cairo.pc'\n",
      "    to the PKG_CONFIG_PATH environment variable\n",
      "    Package 'cairo', required by 'virtual:world', not found\n",
      "    Command '['pkg-config', '--print-errors', '--exists', 'cairo >= 1.15.10']' returned non-zero exit status 1.\n",
      "    ----------------------------------------\n",
      "    ERROR: Failed building wheel for pycairo\n",
      "  Failed to build pycairo\n",
      "  ERROR: Could not build wheels for pycairo which use PEP 517 and cannot be installed directly\n",
      "  ----------------------------------------\u001b[0m\n",
      "\u001b[33mWARNING: Discarding https://files.pythonhosted.org/packages/fe/40/9afaeb8d3b453fb8596fcb6c7bc2b64e434868c91eda19955742778eff74/PyGObject-3.42.2.tar.gz#sha256=21524cef33100c8fd59dc135948b703d79d303e368ce71fa60521cc971cd8aa7 (from https://pypi.org/simple/pygobject/) (requires-python:>=3.6, <4). Command errored out with exit status 1: /opt/conda/envs/Python-3.9/bin/python /tmp/wsuser/pip-standalone-pip-hi_xg440/__env_pip__.zip/pip install --ignore-installed --no-user --prefix /tmp/wsuser/pip-build-env-8k_epkjp/overlay --no-warn-script-location --no-binary :none: --only-binary :none: -i https://pypi.org/simple -- setuptools wheel pycairo Check the logs for full command output.\u001b[0m\n",
      "\u001b[?25h  Downloading PyGObject-3.42.1.tar.gz (718 kB)\n",
      "\u001b[K     |████████████████████████████████| 718 kB 56.0 MB/s eta 0:00:01\n",
      "\u001b[?25h  Installing build dependencies ... \u001b[?25lerror\n",
      "\u001b[31m  ERROR: Command errored out with exit status 1:\n",
      "   command: /opt/conda/envs/Python-3.9/bin/python /tmp/wsuser/pip-standalone-pip-zjiqhftv/__env_pip__.zip/pip install --ignore-installed --no-user --prefix /tmp/wsuser/pip-build-env-_mkc050m/overlay --no-warn-script-location --no-binary :none: --only-binary :none: -i https://pypi.org/simple -- setuptools wheel pycairo\n",
      "       cwd: None\n",
      "  Complete output (38 lines):\n",
      "  Collecting setuptools\n",
      "    Using cached setuptools-65.5.1-py3-none-any.whl (1.2 MB)\n",
      "  Collecting wheel\n",
      "    Using cached wheel-0.38.4-py3-none-any.whl (36 kB)\n",
      "  Collecting pycairo\n",
      "    Using cached pycairo-1.21.0.tar.gz (340 kB)\n",
      "    Installing build dependencies: started\n",
      "    Installing build dependencies: finished with status 'done'\n",
      "    Getting requirements to build wheel: started\n",
      "    Getting requirements to build wheel: finished with status 'done'\n",
      "      Preparing wheel metadata: started\n",
      "      Preparing wheel metadata: finished with status 'done'\n",
      "  Building wheels for collected packages: pycairo\n",
      "    Building wheel for pycairo (PEP 517): started\n",
      "    Building wheel for pycairo (PEP 517): finished with status 'error'\n",
      "    ERROR: Command errored out with exit status 1:\n",
      "     command: /opt/conda/envs/Python-3.9/bin/python /tmp/wsuser/tmpe8274sj__in_process.py build_wheel /tmp/wsuser/tmpt8_xot93\n",
      "         cwd: /tmp/wsuser/pip-install-dr4qsc8p/pycairo_3eee9e1bb2b84ec19f1d462c3e0ad54f\n",
      "    Complete output (15 lines):\n",
      "    running bdist_wheel\n",
      "    running build\n",
      "    running build_py\n",
      "    creating build\n",
      "    creating build/lib.linux-x86_64-cpython-39\n",
      "    creating build/lib.linux-x86_64-cpython-39/cairo\n",
      "    copying cairo/__init__.py -> build/lib.linux-x86_64-cpython-39/cairo\n",
      "    copying cairo/__init__.pyi -> build/lib.linux-x86_64-cpython-39/cairo\n",
      "    copying cairo/py.typed -> build/lib.linux-x86_64-cpython-39/cairo\n",
      "    running build_ext\n",
      "    Package cairo was not found in the pkg-config search path.\n",
      "    Perhaps you should add the directory containing `cairo.pc'\n",
      "    to the PKG_CONFIG_PATH environment variable\n",
      "    Package 'cairo', required by 'virtual:world', not found\n",
      "    Command '['pkg-config', '--print-errors', '--exists', 'cairo >= 1.15.10']' returned non-zero exit status 1.\n",
      "    ----------------------------------------\n",
      "    ERROR: Failed building wheel for pycairo\n",
      "  Failed to build pycairo\n",
      "  ERROR: Could not build wheels for pycairo which use PEP 517 and cannot be installed directly\n",
      "  ----------------------------------------\u001b[0m\n",
      "\u001b[33mWARNING: Discarding https://files.pythonhosted.org/packages/41/d0/7eaebdca0723b267b96a8b7de2743cc223fbb47f651346b3e9b768acf8dd/PyGObject-3.42.1.tar.gz#sha256=80d6a3ad1630e9d1edf31b9e9fad9a894c57e18545a3c95ef0044ac4042b8620 (from https://pypi.org/simple/pygobject/) (requires-python:>=3.6, <4). Command errored out with exit status 1: /opt/conda/envs/Python-3.9/bin/python /tmp/wsuser/pip-standalone-pip-zjiqhftv/__env_pip__.zip/pip install --ignore-installed --no-user --prefix /tmp/wsuser/pip-build-env-_mkc050m/overlay --no-warn-script-location --no-binary :none: --only-binary :none: -i https://pypi.org/simple -- setuptools wheel pycairo Check the logs for full command output.\u001b[0m\n",
      "\u001b[?25h  Downloading PyGObject-3.42.0.tar.gz (716 kB)\n",
      "\u001b[K     |████████████████████████████████| 716 kB 48.2 MB/s eta 0:00:01\n",
      "\u001b[?25h  Installing build dependencies ... \u001b[?25lerror\n",
      "\u001b[31m  ERROR: Command errored out with exit status 1:\n",
      "   command: /opt/conda/envs/Python-3.9/bin/python /tmp/wsuser/pip-standalone-pip-4k6iep6z/__env_pip__.zip/pip install --ignore-installed --no-user --prefix /tmp/wsuser/pip-build-env-5phxwfvc/overlay --no-warn-script-location --no-binary :none: --only-binary :none: -i https://pypi.org/simple -- setuptools wheel pycairo\n",
      "       cwd: None\n",
      "  Complete output (38 lines):\n",
      "  Collecting setuptools\n",
      "    Using cached setuptools-65.5.1-py3-none-any.whl (1.2 MB)\n",
      "  Collecting wheel\n",
      "    Using cached wheel-0.38.4-py3-none-any.whl (36 kB)\n",
      "  Collecting pycairo\n",
      "    Using cached pycairo-1.21.0.tar.gz (340 kB)\n",
      "    Installing build dependencies: started\n",
      "    Installing build dependencies: finished with status 'done'\n",
      "    Getting requirements to build wheel: started\n",
      "    Getting requirements to build wheel: finished with status 'done'\n",
      "      Preparing wheel metadata: started\n",
      "      Preparing wheel metadata: finished with status 'done'\n",
      "  Building wheels for collected packages: pycairo\n",
      "    Building wheel for pycairo (PEP 517): started\n",
      "    Building wheel for pycairo (PEP 517): finished with status 'error'\n",
      "    ERROR: Command errored out with exit status 1:\n",
      "     command: /opt/conda/envs/Python-3.9/bin/python /tmp/wsuser/tmp_6i07u9v_in_process.py build_wheel /tmp/wsuser/tmprxq_1pd6\n",
      "         cwd: /tmp/wsuser/pip-install-cly_23lu/pycairo_e2167e0e79d444c68be48993620da6f7\n",
      "    Complete output (15 lines):\n",
      "    running bdist_wheel\n",
      "    running build\n",
      "    running build_py\n",
      "    creating build\n",
      "    creating build/lib.linux-x86_64-cpython-39\n",
      "    creating build/lib.linux-x86_64-cpython-39/cairo\n",
      "    copying cairo/__init__.py -> build/lib.linux-x86_64-cpython-39/cairo\n",
      "    copying cairo/__init__.pyi -> build/lib.linux-x86_64-cpython-39/cairo\n",
      "    copying cairo/py.typed -> build/lib.linux-x86_64-cpython-39/cairo\n",
      "    running build_ext\n",
      "    Package cairo was not found in the pkg-config search path.\n",
      "    Perhaps you should add the directory containing `cairo.pc'\n",
      "    to the PKG_CONFIG_PATH environment variable\n",
      "    Package 'cairo', required by 'virtual:world', not found\n",
      "    Command '['pkg-config', '--print-errors', '--exists', 'cairo >= 1.15.10']' returned non-zero exit status 1.\n",
      "    ----------------------------------------\n",
      "    ERROR: Failed building wheel for pycairo\n",
      "  Failed to build pycairo\n",
      "  ERROR: Could not build wheels for pycairo which use PEP 517 and cannot be installed directly\n",
      "  ----------------------------------------\u001b[0m\n",
      "\u001b[33mWARNING: Discarding https://files.pythonhosted.org/packages/cc/72/48cfdd7a0caf3c27f392d2657731ac6f7c3c1c0a60bfeba3e1ba9ffa7ba9/PyGObject-3.42.0.tar.gz#sha256=b9803991ec0b0b4175e81fee0ad46090fa7af438fe169348a9b18ae53447afcd (from https://pypi.org/simple/pygobject/) (requires-python:>=3.6, <4). Command errored out with exit status 1: /opt/conda/envs/Python-3.9/bin/python /tmp/wsuser/pip-standalone-pip-4k6iep6z/__env_pip__.zip/pip install --ignore-installed --no-user --prefix /tmp/wsuser/pip-build-env-5phxwfvc/overlay --no-warn-script-location --no-binary :none: --only-binary :none: -i https://pypi.org/simple -- setuptools wheel pycairo Check the logs for full command output.\u001b[0m\n",
      "\u001b[?25h  Downloading PyGObject-3.40.1.tar.gz (714 kB)\n",
      "\u001b[K     |████████████████████████████████| 714 kB 30.4 MB/s eta 0:00:01\n",
      "\u001b[?25h  Installing build dependencies ... \u001b[?25lerror\n",
      "\u001b[31m  ERROR: Command errored out with exit status 1:\n",
      "   command: /opt/conda/envs/Python-3.9/bin/python /tmp/wsuser/pip-standalone-pip-brql_n6v/__env_pip__.zip/pip install --ignore-installed --no-user --prefix /tmp/wsuser/pip-build-env-znnqvgv1/overlay --no-warn-script-location --no-binary :none: --only-binary :none: -i https://pypi.org/simple -- setuptools wheel pycairo\n",
      "       cwd: None\n",
      "  Complete output (38 lines):\n",
      "  Collecting setuptools\n",
      "    Using cached setuptools-65.5.1-py3-none-any.whl (1.2 MB)\n",
      "  Collecting wheel\n",
      "    Using cached wheel-0.38.4-py3-none-any.whl (36 kB)\n",
      "  Collecting pycairo\n",
      "    Using cached pycairo-1.21.0.tar.gz (340 kB)\n",
      "    Installing build dependencies: started\n",
      "    Installing build dependencies: finished with status 'done'\n",
      "    Getting requirements to build wheel: started\n",
      "    Getting requirements to build wheel: finished with status 'done'\n",
      "      Preparing wheel metadata: started\n",
      "      Preparing wheel metadata: finished with status 'done'\n",
      "  Building wheels for collected packages: pycairo\n",
      "    Building wheel for pycairo (PEP 517): started\n",
      "    Building wheel for pycairo (PEP 517): finished with status 'error'\n",
      "    ERROR: Command errored out with exit status 1:\n",
      "     command: /opt/conda/envs/Python-3.9/bin/python /tmp/wsuser/tmpkb_ycj7s_in_process.py build_wheel /tmp/wsuser/tmperwpomn4\n",
      "         cwd: /tmp/wsuser/pip-install-5ojbkke8/pycairo_e9bda80a6d6a4f619517d2986a6e4489\n",
      "    Complete output (15 lines):\n",
      "    running bdist_wheel\n",
      "    running build\n",
      "    running build_py\n",
      "    creating build\n",
      "    creating build/lib.linux-x86_64-cpython-39\n",
      "    creating build/lib.linux-x86_64-cpython-39/cairo\n",
      "    copying cairo/__init__.py -> build/lib.linux-x86_64-cpython-39/cairo\n",
      "    copying cairo/__init__.pyi -> build/lib.linux-x86_64-cpython-39/cairo\n",
      "    copying cairo/py.typed -> build/lib.linux-x86_64-cpython-39/cairo\n",
      "    running build_ext\n",
      "    Package cairo was not found in the pkg-config search path.\n",
      "    Perhaps you should add the directory containing `cairo.pc'\n",
      "    to the PKG_CONFIG_PATH environment variable\n",
      "    Package 'cairo', required by 'virtual:world', not found\n",
      "    Command '['pkg-config', '--print-errors', '--exists', 'cairo >= 1.15.10']' returned non-zero exit status 1.\n",
      "    ----------------------------------------\n",
      "    ERROR: Failed building wheel for pycairo\n",
      "  Failed to build pycairo\n",
      "  ERROR: Could not build wheels for pycairo which use PEP 517 and cannot be installed directly\n",
      "  ----------------------------------------\u001b[0m\n",
      "\u001b[33mWARNING: Discarding https://files.pythonhosted.org/packages/51/2f/4d5d5afb7000b9151e33952b59163c9389bd867ac6fe85d62f85831fa061/PyGObject-3.40.1.tar.gz#sha256=6fb599aa59ceb9dd05fafb0d72b3862943e7d5e85c8ef6c74856bc6d4321cbab (from https://pypi.org/simple/pygobject/) (requires-python:>=3.6, <4). Command errored out with exit status 1: /opt/conda/envs/Python-3.9/bin/python /tmp/wsuser/pip-standalone-pip-brql_n6v/__env_pip__.zip/pip install --ignore-installed --no-user --prefix /tmp/wsuser/pip-build-env-znnqvgv1/overlay --no-warn-script-location --no-binary :none: --only-binary :none: -i https://pypi.org/simple -- setuptools wheel pycairo Check the logs for full command output.\u001b[0m\n",
      "\u001b[?25h  Downloading PyGObject-3.40.0.tar.gz (714 kB)\n",
      "\u001b[K     |████████████████████████████████| 714 kB 49.0 MB/s eta 0:00:01\n",
      "\u001b[?25h  Installing build dependencies ... \u001b[?25lerror\n",
      "\u001b[31m  ERROR: Command errored out with exit status 1:\n",
      "   command: /opt/conda/envs/Python-3.9/bin/python /tmp/wsuser/pip-standalone-pip-ev_ankzi/__env_pip__.zip/pip install --ignore-installed --no-user --prefix /tmp/wsuser/pip-build-env-mj7c5dya/overlay --no-warn-script-location --no-binary :none: --only-binary :none: -i https://pypi.org/simple -- setuptools wheel pycairo\n",
      "       cwd: None\n",
      "  Complete output (38 lines):\n",
      "  Collecting setuptools\n",
      "    Using cached setuptools-65.5.1-py3-none-any.whl (1.2 MB)\n",
      "  Collecting wheel\n",
      "    Using cached wheel-0.38.4-py3-none-any.whl (36 kB)\n",
      "  Collecting pycairo\n",
      "    Using cached pycairo-1.21.0.tar.gz (340 kB)\n",
      "    Installing build dependencies: started\n",
      "    Installing build dependencies: finished with status 'done'\n",
      "    Getting requirements to build wheel: started\n",
      "    Getting requirements to build wheel: finished with status 'done'\n",
      "      Preparing wheel metadata: started\n",
      "      Preparing wheel metadata: finished with status 'done'\n",
      "  Building wheels for collected packages: pycairo\n",
      "    Building wheel for pycairo (PEP 517): started\n",
      "    Building wheel for pycairo (PEP 517): finished with status 'error'\n",
      "    ERROR: Command errored out with exit status 1:\n",
      "     command: /opt/conda/envs/Python-3.9/bin/python /tmp/wsuser/tmpqw9uh9mb_in_process.py build_wheel /tmp/wsuser/tmpf0l_lip5\n",
      "         cwd: /tmp/wsuser/pip-install-0ssu96o4/pycairo_c4999a2b0b6d4a478f46ffaede74f290\n",
      "    Complete output (15 lines):\n",
      "    running bdist_wheel\n",
      "    running build\n",
      "    running build_py\n",
      "    creating build\n",
      "    creating build/lib.linux-x86_64-cpython-39\n",
      "    creating build/lib.linux-x86_64-cpython-39/cairo\n",
      "    copying cairo/__init__.py -> build/lib.linux-x86_64-cpython-39/cairo\n",
      "    copying cairo/__init__.pyi -> build/lib.linux-x86_64-cpython-39/cairo\n",
      "    copying cairo/py.typed -> build/lib.linux-x86_64-cpython-39/cairo\n",
      "    running build_ext\n",
      "    Package cairo was not found in the pkg-config search path.\n",
      "    Perhaps you should add the directory containing `cairo.pc'\n",
      "    to the PKG_CONFIG_PATH environment variable\n",
      "    Package 'cairo', required by 'virtual:world', not found\n",
      "    Command '['pkg-config', '--print-errors', '--exists', 'cairo >= 1.15.10']' returned non-zero exit status 1.\n",
      "    ----------------------------------------\n",
      "    ERROR: Failed building wheel for pycairo\n",
      "  Failed to build pycairo\n",
      "  ERROR: Could not build wheels for pycairo which use PEP 517 and cannot be installed directly\n",
      "  ----------------------------------------\u001b[0m\n",
      "\u001b[33mWARNING: Discarding https://files.pythonhosted.org/packages/a0/fa/0cfaa64ad7a4cd94fd74b698fcc8987ed780fce1651fecc6604f86f604cd/PyGObject-3.40.0.tar.gz#sha256=98d83f71e6313dadc29793450fec23b2eaa5c3f1c4b073d0a4f9c31b5cdb5fca (from https://pypi.org/simple/pygobject/) (requires-python:>=3.6, <4). Command errored out with exit status 1: /opt/conda/envs/Python-3.9/bin/python /tmp/wsuser/pip-standalone-pip-ev_ankzi/__env_pip__.zip/pip install --ignore-installed --no-user --prefix /tmp/wsuser/pip-build-env-mj7c5dya/overlay --no-warn-script-location --no-binary :none: --only-binary :none: -i https://pypi.org/simple -- setuptools wheel pycairo Check the logs for full command output.\u001b[0m\n",
      "\u001b[?25h  Downloading PyGObject-3.38.0.tar.gz (712 kB)\n",
      "\u001b[K     |████████████████████████████████| 712 kB 62.6 MB/s eta 0:00:01\n",
      "\u001b[?25h  Installing build dependencies ... \u001b[?25lerror\n",
      "\u001b[31m  ERROR: Command errored out with exit status 1:\n",
      "   command: /opt/conda/envs/Python-3.9/bin/python /tmp/wsuser/pip-standalone-pip-jqu4eku6/__env_pip__.zip/pip install --ignore-installed --no-user --prefix /tmp/wsuser/pip-build-env-qgriam59/overlay --no-warn-script-location --no-binary :none: --only-binary :none: -i https://pypi.org/simple -- setuptools wheel pycairo\n",
      "       cwd: None\n",
      "  Complete output (38 lines):\n",
      "  Collecting setuptools\n",
      "    Using cached setuptools-65.5.1-py3-none-any.whl (1.2 MB)\n",
      "  Collecting wheel\n",
      "    Using cached wheel-0.38.4-py3-none-any.whl (36 kB)\n",
      "  Collecting pycairo\n",
      "    Using cached pycairo-1.21.0.tar.gz (340 kB)\n",
      "    Installing build dependencies: started\n",
      "    Installing build dependencies: finished with status 'done'\n",
      "    Getting requirements to build wheel: started\n",
      "    Getting requirements to build wheel: finished with status 'done'\n",
      "      Preparing wheel metadata: started\n",
      "      Preparing wheel metadata: finished with status 'done'\n",
      "  Building wheels for collected packages: pycairo\n",
      "    Building wheel for pycairo (PEP 517): started\n",
      "    Building wheel for pycairo (PEP 517): finished with status 'error'\n",
      "    ERROR: Command errored out with exit status 1:\n",
      "     command: /opt/conda/envs/Python-3.9/bin/python /tmp/wsuser/tmp6u13anyk_in_process.py build_wheel /tmp/wsuser/tmpwdnpl13e\n",
      "         cwd: /tmp/wsuser/pip-install-0dpkp31w/pycairo_5ac57e2f297c4410877e4c1fc84cab73\n",
      "    Complete output (15 lines):\n",
      "    running bdist_wheel\n",
      "    running build\n",
      "    running build_py\n",
      "    creating build\n",
      "    creating build/lib.linux-x86_64-cpython-39\n",
      "    creating build/lib.linux-x86_64-cpython-39/cairo\n",
      "    copying cairo/__init__.py -> build/lib.linux-x86_64-cpython-39/cairo\n",
      "    copying cairo/__init__.pyi -> build/lib.linux-x86_64-cpython-39/cairo\n",
      "    copying cairo/py.typed -> build/lib.linux-x86_64-cpython-39/cairo\n",
      "    running build_ext\n",
      "    Package cairo was not found in the pkg-config search path.\n",
      "    Perhaps you should add the directory containing `cairo.pc'\n",
      "    to the PKG_CONFIG_PATH environment variable\n",
      "    Package 'cairo', required by 'virtual:world', not found\n",
      "    Command '['pkg-config', '--print-errors', '--exists', 'cairo >= 1.15.10']' returned non-zero exit status 1.\n",
      "    ----------------------------------------\n",
      "    ERROR: Failed building wheel for pycairo\n",
      "  Failed to build pycairo\n",
      "  ERROR: Could not build wheels for pycairo which use PEP 517 and cannot be installed directly\n",
      "  ----------------------------------------\u001b[0m\n",
      "\u001b[33mWARNING: Discarding https://files.pythonhosted.org/packages/3a/a7/de282a4aaedba59d60a895a7821e6497b39cbdfa94a352776ff45ffc6e6f/PyGObject-3.38.0.tar.gz#sha256=051b950f509f2e9f125add96c1493bde987c527f7a0c15a1f7b69d6d1c3cd8e6 (from https://pypi.org/simple/pygobject/) (requires-python:>=3.5, <4). Command errored out with exit status 1: /opt/conda/envs/Python-3.9/bin/python /tmp/wsuser/pip-standalone-pip-jqu4eku6/__env_pip__.zip/pip install --ignore-installed --no-user --prefix /tmp/wsuser/pip-build-env-qgriam59/overlay --no-warn-script-location --no-binary :none: --only-binary :none: -i https://pypi.org/simple -- setuptools wheel pycairo Check the logs for full command output.\u001b[0m\n",
      "\u001b[?25h  Downloading PyGObject-3.36.1.tar.gz (716 kB)\n",
      "\u001b[K     |████████████████████████████████| 716 kB 68.2 MB/s eta 0:00:01�███████                     | 245 kB 68.2 MB/s eta 0:00:01\n",
      "\u001b[?25h  Installing build dependencies ... \u001b[?25lerror\n",
      "\u001b[31m  ERROR: Command errored out with exit status 1:\n",
      "   command: /opt/conda/envs/Python-3.9/bin/python /tmp/wsuser/pip-standalone-pip-_zdte56n/__env_pip__.zip/pip install --ignore-installed --no-user --prefix /tmp/wsuser/pip-build-env-6s2yudt8/overlay --no-warn-script-location --no-binary :none: --only-binary :none: -i https://pypi.org/simple -- setuptools wheel pycairo\n",
      "       cwd: None\n",
      "  Complete output (38 lines):\n",
      "  Collecting setuptools\n",
      "    Using cached setuptools-65.5.1-py3-none-any.whl (1.2 MB)\n",
      "  Collecting wheel\n",
      "    Using cached wheel-0.38.4-py3-none-any.whl (36 kB)\n",
      "  Collecting pycairo\n",
      "    Using cached pycairo-1.21.0.tar.gz (340 kB)\n",
      "    Installing build dependencies: started\n",
      "    Installing build dependencies: finished with status 'done'\n",
      "    Getting requirements to build wheel: started\n",
      "    Getting requirements to build wheel: finished with status 'done'\n",
      "      Preparing wheel metadata: started\n",
      "      Preparing wheel metadata: finished with status 'done'\n",
      "  Building wheels for collected packages: pycairo\n",
      "    Building wheel for pycairo (PEP 517): started\n",
      "    Building wheel for pycairo (PEP 517): finished with status 'error'\n",
      "    ERROR: Command errored out with exit status 1:\n",
      "     command: /opt/conda/envs/Python-3.9/bin/python /tmp/wsuser/tmpk513km08_in_process.py build_wheel /tmp/wsuser/tmp8tgfq_2c\n",
      "         cwd: /tmp/wsuser/pip-install-byxfkjnt/pycairo_4aa4d11cbe4146b5bf2c515f63aabb4f\n",
      "    Complete output (15 lines):\n",
      "    running bdist_wheel\n",
      "    running build\n",
      "    running build_py\n",
      "    creating build\n",
      "    creating build/lib.linux-x86_64-cpython-39\n",
      "    creating build/lib.linux-x86_64-cpython-39/cairo\n",
      "    copying cairo/__init__.py -> build/lib.linux-x86_64-cpython-39/cairo\n",
      "    copying cairo/__init__.pyi -> build/lib.linux-x86_64-cpython-39/cairo\n",
      "    copying cairo/py.typed -> build/lib.linux-x86_64-cpython-39/cairo\n",
      "    running build_ext\n",
      "    Package cairo was not found in the pkg-config search path.\n",
      "    Perhaps you should add the directory containing `cairo.pc'\n",
      "    to the PKG_CONFIG_PATH environment variable\n",
      "    Package 'cairo', required by 'virtual:world', not found\n",
      "    Command '['pkg-config', '--print-errors', '--exists', 'cairo >= 1.15.10']' returned non-zero exit status 1.\n",
      "    ----------------------------------------\n",
      "    ERROR: Failed building wheel for pycairo\n",
      "  Failed to build pycairo\n",
      "  ERROR: Could not build wheels for pycairo which use PEP 517 and cannot be installed directly\n",
      "  ----------------------------------------\u001b[0m\n",
      "\u001b[33mWARNING: Discarding https://files.pythonhosted.org/packages/93/41/bf9ab8929f51dac2979ae81bb094728bacee3ceb049def72d3fc1bcb4241/PyGObject-3.36.1.tar.gz#sha256=012a589aec687bfa809a1ff9f5cd775dc7f6fcec1a6bc7fe88e1002a68f8ba34 (from https://pypi.org/simple/pygobject/) (requires-python:>=2.7, !=3.0.*, !=3.1.*, !=3.2.*, !=3.3.*, !=3.4.*, <4). Command errored out with exit status 1: /opt/conda/envs/Python-3.9/bin/python /tmp/wsuser/pip-standalone-pip-_zdte56n/__env_pip__.zip/pip install --ignore-installed --no-user --prefix /tmp/wsuser/pip-build-env-6s2yudt8/overlay --no-warn-script-location --no-binary :none: --only-binary :none: -i https://pypi.org/simple -- setuptools wheel pycairo Check the logs for full command output.\u001b[0m\n",
      "\u001b[?25h  Downloading PyGObject-3.36.0.tar.gz (714 kB)\n",
      "\u001b[K     |████████████████████████████████| 714 kB 60.3 MB/s eta 0:00:01\n",
      "\u001b[?25h  Installing build dependencies ... \u001b[?25lerror\n",
      "\u001b[31m  ERROR: Command errored out with exit status 1:\n",
      "   command: /opt/conda/envs/Python-3.9/bin/python /tmp/wsuser/pip-standalone-pip-omo7u_za/__env_pip__.zip/pip install --ignore-installed --no-user --prefix /tmp/wsuser/pip-build-env-uv2r75vw/overlay --no-warn-script-location --no-binary :none: --only-binary :none: -i https://pypi.org/simple -- setuptools wheel pycairo\n",
      "       cwd: None\n",
      "  Complete output (38 lines):\n",
      "  Collecting setuptools\n",
      "    Using cached setuptools-65.5.1-py3-none-any.whl (1.2 MB)\n",
      "  Collecting wheel\n",
      "    Using cached wheel-0.38.4-py3-none-any.whl (36 kB)\n",
      "  Collecting pycairo\n",
      "    Using cached pycairo-1.21.0.tar.gz (340 kB)\n",
      "    Installing build dependencies: started\n",
      "    Installing build dependencies: finished with status 'done'\n",
      "    Getting requirements to build wheel: started\n",
      "    Getting requirements to build wheel: finished with status 'done'\n",
      "      Preparing wheel metadata: started\n",
      "      Preparing wheel metadata: finished with status 'done'\n",
      "  Building wheels for collected packages: pycairo\n",
      "    Building wheel for pycairo (PEP 517): started\n",
      "    Building wheel for pycairo (PEP 517): finished with status 'error'\n",
      "    ERROR: Command errored out with exit status 1:\n",
      "     command: /opt/conda/envs/Python-3.9/bin/python /tmp/wsuser/tmp4kzj_8bj_in_process.py build_wheel /tmp/wsuser/tmp55bbgtl_\n",
      "         cwd: /tmp/wsuser/pip-install-q296qjgq/pycairo_236acf55fb3a4223ad3912f6359bbc2b\n",
      "    Complete output (15 lines):\n",
      "    running bdist_wheel\n",
      "    running build\n",
      "    running build_py\n",
      "    creating build\n",
      "    creating build/lib.linux-x86_64-cpython-39\n",
      "    creating build/lib.linux-x86_64-cpython-39/cairo\n",
      "    copying cairo/__init__.py -> build/lib.linux-x86_64-cpython-39/cairo\n",
      "    copying cairo/__init__.pyi -> build/lib.linux-x86_64-cpython-39/cairo\n",
      "    copying cairo/py.typed -> build/lib.linux-x86_64-cpython-39/cairo\n",
      "    running build_ext\n",
      "    Package cairo was not found in the pkg-config search path.\n",
      "    Perhaps you should add the directory containing `cairo.pc'\n",
      "    to the PKG_CONFIG_PATH environment variable\n",
      "    Package 'cairo', required by 'virtual:world', not found\n",
      "    Command '['pkg-config', '--print-errors', '--exists', 'cairo >= 1.15.10']' returned non-zero exit status 1.\n",
      "    ----------------------------------------\n",
      "    ERROR: Failed building wheel for pycairo\n",
      "  Failed to build pycairo\n",
      "  ERROR: Could not build wheels for pycairo which use PEP 517 and cannot be installed directly\n",
      "  ----------------------------------------\u001b[0m\n",
      "\u001b[33mWARNING: Discarding https://files.pythonhosted.org/packages/3e/b5/f4fd3351ed074aeeae30bff71428f38bc42187e34c44913239a9dc85a7fc/PyGObject-3.36.0.tar.gz#sha256=b97f570e55017fcd3732164811f24ecf63983a4834f61b55b0aaf64ecefac856 (from https://pypi.org/simple/pygobject/) (requires-python:>=2.7, !=3.0.*, !=3.1.*, !=3.2.*, !=3.3.*, !=3.4.*, <4). Command errored out with exit status 1: /opt/conda/envs/Python-3.9/bin/python /tmp/wsuser/pip-standalone-pip-omo7u_za/__env_pip__.zip/pip install --ignore-installed --no-user --prefix /tmp/wsuser/pip-build-env-uv2r75vw/overlay --no-warn-script-location --no-binary :none: --only-binary :none: -i https://pypi.org/simple -- setuptools wheel pycairo Check the logs for full command output.\u001b[0m\n",
      "\u001b[?25h  Downloading PyGObject-3.34.0.tar.gz (699 kB)\n",
      "\u001b[K     |████████████████████████████████| 699 kB 60.8 MB/s eta 0:00:01\n",
      "\u001b[?25h  Installing build dependencies ... \u001b[?25lerror\n",
      "\u001b[31m  ERROR: Command errored out with exit status 1:\n",
      "   command: /opt/conda/envs/Python-3.9/bin/python /tmp/wsuser/pip-standalone-pip-oqvkbh3o/__env_pip__.zip/pip install --ignore-installed --no-user --prefix /tmp/wsuser/pip-build-env-diip01w2/overlay --no-warn-script-location --no-binary :none: --only-binary :none: -i https://pypi.org/simple -- setuptools wheel pycairo\n",
      "       cwd: None\n",
      "  Complete output (38 lines):\n",
      "  Collecting setuptools\n",
      "    Using cached setuptools-65.5.1-py3-none-any.whl (1.2 MB)\n",
      "  Collecting wheel\n",
      "    Using cached wheel-0.38.4-py3-none-any.whl (36 kB)\n",
      "  Collecting pycairo\n",
      "    Using cached pycairo-1.21.0.tar.gz (340 kB)\n",
      "    Installing build dependencies: started\n",
      "    Installing build dependencies: finished with status 'done'\n",
      "    Getting requirements to build wheel: started\n",
      "    Getting requirements to build wheel: finished with status 'done'\n",
      "      Preparing wheel metadata: started\n",
      "      Preparing wheel metadata: finished with status 'done'\n",
      "  Building wheels for collected packages: pycairo\n",
      "    Building wheel for pycairo (PEP 517): started\n",
      "    Building wheel for pycairo (PEP 517): finished with status 'error'\n",
      "    ERROR: Command errored out with exit status 1:\n",
      "     command: /opt/conda/envs/Python-3.9/bin/python /tmp/wsuser/tmppvkgv3pu_in_process.py build_wheel /tmp/wsuser/tmp7_y6yim8\n",
      "         cwd: /tmp/wsuser/pip-install-i8zz77vx/pycairo_689b7f7d27eb40e498019091f18fed39\n",
      "    Complete output (15 lines):\n",
      "    running bdist_wheel\n",
      "    running build\n",
      "    running build_py\n",
      "    creating build\n",
      "    creating build/lib.linux-x86_64-cpython-39\n",
      "    creating build/lib.linux-x86_64-cpython-39/cairo\n",
      "    copying cairo/__init__.py -> build/lib.linux-x86_64-cpython-39/cairo\n",
      "    copying cairo/__init__.pyi -> build/lib.linux-x86_64-cpython-39/cairo\n",
      "    copying cairo/py.typed -> build/lib.linux-x86_64-cpython-39/cairo\n",
      "    running build_ext\n",
      "    Package cairo was not found in the pkg-config search path.\n",
      "    Perhaps you should add the directory containing `cairo.pc'\n",
      "    to the PKG_CONFIG_PATH environment variable\n",
      "    Package 'cairo', required by 'virtual:world', not found\n",
      "    Command '['pkg-config', '--print-errors', '--exists', 'cairo >= 1.15.10']' returned non-zero exit status 1.\n",
      "    ----------------------------------------\n",
      "    ERROR: Failed building wheel for pycairo\n",
      "  Failed to build pycairo\n",
      "  ERROR: Could not build wheels for pycairo which use PEP 517 and cannot be installed directly\n",
      "  ----------------------------------------\u001b[0m\n",
      "\u001b[33mWARNING: Discarding https://files.pythonhosted.org/packages/46/8a/b183f3edc812d4d28c8b671a922b5bc2863be5d38c56b3ad9155815e78dd/PyGObject-3.34.0.tar.gz#sha256=2acb0daf2b3a23a90f52066cc23d1053339fee2f5f7f4275f8baa3704ae0c543 (from https://pypi.org/simple/pygobject/) (requires-python:>=2.7, !=3.0.*, !=3.1.*, !=3.2.*, !=3.3.*, !=3.4.*, <4). Command errored out with exit status 1: /opt/conda/envs/Python-3.9/bin/python /tmp/wsuser/pip-standalone-pip-oqvkbh3o/__env_pip__.zip/pip install --ignore-installed --no-user --prefix /tmp/wsuser/pip-build-env-diip01w2/overlay --no-warn-script-location --no-binary :none: --only-binary :none: -i https://pypi.org/simple -- setuptools wheel pycairo Check the logs for full command output.\u001b[0m\n",
      "\u001b[?25h  Downloading PyGObject-3.32.2.tar.gz (698 kB)\n",
      "\u001b[K     |████████████████████████████████| 698 kB 61.2 MB/s eta 0:00:01\n",
      "\u001b[?25h  Installing build dependencies ... \u001b[?25lerror\n",
      "\u001b[31m  ERROR: Command errored out with exit status 1:\n",
      "   command: /opt/conda/envs/Python-3.9/bin/python /tmp/wsuser/pip-standalone-pip-j0_3loza/__env_pip__.zip/pip install --ignore-installed --no-user --prefix /tmp/wsuser/pip-build-env-3rrbal1u/overlay --no-warn-script-location --no-binary :none: --only-binary :none: -i https://pypi.org/simple -- setuptools wheel pycairo\n",
      "       cwd: None\n",
      "  Complete output (38 lines):\n",
      "  Collecting setuptools\n",
      "    Using cached setuptools-65.5.1-py3-none-any.whl (1.2 MB)\n",
      "  Collecting wheel\n",
      "    Using cached wheel-0.38.4-py3-none-any.whl (36 kB)\n",
      "  Collecting pycairo\n",
      "    Using cached pycairo-1.21.0.tar.gz (340 kB)\n",
      "    Installing build dependencies: started\n",
      "    Installing build dependencies: finished with status 'done'\n",
      "    Getting requirements to build wheel: started\n",
      "    Getting requirements to build wheel: finished with status 'done'\n",
      "      Preparing wheel metadata: started\n",
      "      Preparing wheel metadata: finished with status 'done'\n",
      "  Building wheels for collected packages: pycairo\n",
      "    Building wheel for pycairo (PEP 517): started\n",
      "    Building wheel for pycairo (PEP 517): finished with status 'error'\n",
      "    ERROR: Command errored out with exit status 1:\n",
      "     command: /opt/conda/envs/Python-3.9/bin/python /tmp/wsuser/tmphvvgem6b_in_process.py build_wheel /tmp/wsuser/tmpw942b3bp\n",
      "         cwd: /tmp/wsuser/pip-install-5hw2b950/pycairo_9e6614bd618e462c93b1621d5b7e61d9\n",
      "    Complete output (15 lines):\n",
      "    running bdist_wheel\n",
      "    running build\n",
      "    running build_py\n",
      "    creating build\n",
      "    creating build/lib.linux-x86_64-cpython-39\n",
      "    creating build/lib.linux-x86_64-cpython-39/cairo\n",
      "    copying cairo/__init__.py -> build/lib.linux-x86_64-cpython-39/cairo\n",
      "    copying cairo/__init__.pyi -> build/lib.linux-x86_64-cpython-39/cairo\n",
      "    copying cairo/py.typed -> build/lib.linux-x86_64-cpython-39/cairo\n",
      "    running build_ext\n",
      "    Package cairo was not found in the pkg-config search path.\n",
      "    Perhaps you should add the directory containing `cairo.pc'\n",
      "    to the PKG_CONFIG_PATH environment variable\n",
      "    Package 'cairo', required by 'virtual:world', not found\n",
      "    Command '['pkg-config', '--print-errors', '--exists', 'cairo >= 1.15.10']' returned non-zero exit status 1.\n",
      "    ----------------------------------------\n",
      "    ERROR: Failed building wheel for pycairo\n",
      "  Failed to build pycairo\n",
      "  ERROR: Could not build wheels for pycairo which use PEP 517 and cannot be installed directly\n",
      "  ----------------------------------------\u001b[0m\n",
      "\u001b[33mWARNING: Discarding https://files.pythonhosted.org/packages/40/ee/8daf797cda4ffe7724b9d47cbb5e2b44ca6235764622d163c586bd9bd7c5/PyGObject-3.32.2.tar.gz#sha256=fa82746df059b9e0dcf473e0a9ff0693aa5e064f1ca1e2c46b5ac815bceda1ad (from https://pypi.org/simple/pygobject/) (requires-python:>=2.7, !=3.0.*, !=3.1.*, !=3.2.*, !=3.3.*, !=3.4.*, <4). Command errored out with exit status 1: /opt/conda/envs/Python-3.9/bin/python /tmp/wsuser/pip-standalone-pip-j0_3loza/__env_pip__.zip/pip install --ignore-installed --no-user --prefix /tmp/wsuser/pip-build-env-3rrbal1u/overlay --no-warn-script-location --no-binary :none: --only-binary :none: -i https://pypi.org/simple -- setuptools wheel pycairo Check the logs for full command output.\u001b[0m\n",
      "\u001b[?25h  Downloading PyGObject-3.32.1.tar.gz (698 kB)\n",
      "\u001b[K     |████████████████████████████████| 698 kB 64.3 MB/s eta 0:00:01\n",
      "\u001b[?25h  Installing build dependencies ... \u001b[?25lerror\n",
      "\u001b[31m  ERROR: Command errored out with exit status 1:\n",
      "   command: /opt/conda/envs/Python-3.9/bin/python /tmp/wsuser/pip-standalone-pip-zat5ruyz/__env_pip__.zip/pip install --ignore-installed --no-user --prefix /tmp/wsuser/pip-build-env-npg1mrvq/overlay --no-warn-script-location --no-binary :none: --only-binary :none: -i https://pypi.org/simple -- setuptools wheel pycairo\n",
      "       cwd: None\n",
      "  Complete output (38 lines):\n",
      "  Collecting setuptools\n",
      "    Using cached setuptools-65.5.1-py3-none-any.whl (1.2 MB)\n",
      "  Collecting wheel\n",
      "    Using cached wheel-0.38.4-py3-none-any.whl (36 kB)\n",
      "  Collecting pycairo\n",
      "    Using cached pycairo-1.21.0.tar.gz (340 kB)\n",
      "    Installing build dependencies: started\n",
      "    Installing build dependencies: finished with status 'done'\n",
      "    Getting requirements to build wheel: started\n",
      "    Getting requirements to build wheel: finished with status 'done'\n",
      "      Preparing wheel metadata: started\n",
      "      Preparing wheel metadata: finished with status 'done'\n",
      "  Building wheels for collected packages: pycairo\n",
      "    Building wheel for pycairo (PEP 517): started\n",
      "    Building wheel for pycairo (PEP 517): finished with status 'error'\n",
      "    ERROR: Command errored out with exit status 1:\n",
      "     command: /opt/conda/envs/Python-3.9/bin/python /tmp/wsuser/tmprroxzcsz_in_process.py build_wheel /tmp/wsuser/tmpq7patcd5\n",
      "         cwd: /tmp/wsuser/pip-install-cq9brfva/pycairo_14bb67adb49249bd88fe972a33a1ee94\n",
      "    Complete output (15 lines):\n",
      "    running bdist_wheel\n",
      "    running build\n",
      "    running build_py\n",
      "    creating build\n",
      "    creating build/lib.linux-x86_64-cpython-39\n",
      "    creating build/lib.linux-x86_64-cpython-39/cairo\n",
      "    copying cairo/__init__.py -> build/lib.linux-x86_64-cpython-39/cairo\n",
      "    copying cairo/__init__.pyi -> build/lib.linux-x86_64-cpython-39/cairo\n",
      "    copying cairo/py.typed -> build/lib.linux-x86_64-cpython-39/cairo\n",
      "    running build_ext\n",
      "    Package cairo was not found in the pkg-config search path.\n",
      "    Perhaps you should add the directory containing `cairo.pc'\n",
      "    to the PKG_CONFIG_PATH environment variable\n",
      "    Package 'cairo', required by 'virtual:world', not found\n",
      "    Command '['pkg-config', '--print-errors', '--exists', 'cairo >= 1.15.10']' returned non-zero exit status 1.\n",
      "    ----------------------------------------\n",
      "    ERROR: Failed building wheel for pycairo\n",
      "  Failed to build pycairo\n",
      "  ERROR: Could not build wheels for pycairo which use PEP 517 and cannot be installed directly\n",
      "  ----------------------------------------\u001b[0m\n",
      "\u001b[33mWARNING: Discarding https://files.pythonhosted.org/packages/c1/36/c31a6ce9411b22a8ac0759c9b5ffda09368d5e0643450bb8ed83c271588c/PyGObject-3.32.1.tar.gz#sha256=4165d9fb4157e69c76f29e52a6d73a39a804e18ad9ef0eede15efd9c57c52bf2 (from https://pypi.org/simple/pygobject/). Command errored out with exit status 1: /opt/conda/envs/Python-3.9/bin/python /tmp/wsuser/pip-standalone-pip-zat5ruyz/__env_pip__.zip/pip install --ignore-installed --no-user --prefix /tmp/wsuser/pip-build-env-npg1mrvq/overlay --no-warn-script-location --no-binary :none: --only-binary :none: -i https://pypi.org/simple -- setuptools wheel pycairo Check the logs for full command output.\u001b[0m\n",
      "\u001b[?25h  Downloading PyGObject-3.32.0.tar.gz (698 kB)\n",
      "\u001b[K     |████████████████████████████████| 698 kB 59.0 MB/s eta 0:00:01\n",
      "\u001b[?25h  Installing build dependencies ... \u001b[?25lerror\n",
      "\u001b[31m  ERROR: Command errored out with exit status 1:\n",
      "   command: /opt/conda/envs/Python-3.9/bin/python /tmp/wsuser/pip-standalone-pip-8irn9ia4/__env_pip__.zip/pip install --ignore-installed --no-user --prefix /tmp/wsuser/pip-build-env-qlkv2h57/overlay --no-warn-script-location --no-binary :none: --only-binary :none: -i https://pypi.org/simple -- setuptools wheel pycairo\n",
      "       cwd: None\n",
      "  Complete output (38 lines):\n",
      "  Collecting setuptools\n",
      "    Using cached setuptools-65.5.1-py3-none-any.whl (1.2 MB)\n",
      "  Collecting wheel\n",
      "    Using cached wheel-0.38.4-py3-none-any.whl (36 kB)\n",
      "  Collecting pycairo\n",
      "    Using cached pycairo-1.21.0.tar.gz (340 kB)\n",
      "    Installing build dependencies: started\n",
      "    Installing build dependencies: finished with status 'done'\n",
      "    Getting requirements to build wheel: started\n",
      "    Getting requirements to build wheel: finished with status 'done'\n",
      "      Preparing wheel metadata: started\n",
      "      Preparing wheel metadata: finished with status 'done'\n",
      "  Building wheels for collected packages: pycairo\n",
      "    Building wheel for pycairo (PEP 517): started\n",
      "    Building wheel for pycairo (PEP 517): finished with status 'error'\n",
      "    ERROR: Command errored out with exit status 1:\n",
      "     command: /opt/conda/envs/Python-3.9/bin/python /tmp/wsuser/tmp8_r08qb0_in_process.py build_wheel /tmp/wsuser/tmpe47knwpc\n",
      "         cwd: /tmp/wsuser/pip-install-8f8r11o9/pycairo_b6c5cc9204f9452fbe2d8ed64017c095\n",
      "    Complete output (15 lines):\n",
      "    running bdist_wheel\n",
      "    running build\n",
      "    running build_py\n",
      "    creating build\n",
      "    creating build/lib.linux-x86_64-cpython-39\n",
      "    creating build/lib.linux-x86_64-cpython-39/cairo\n",
      "    copying cairo/__init__.py -> build/lib.linux-x86_64-cpython-39/cairo\n",
      "    copying cairo/__init__.pyi -> build/lib.linux-x86_64-cpython-39/cairo\n",
      "    copying cairo/py.typed -> build/lib.linux-x86_64-cpython-39/cairo\n",
      "    running build_ext\n",
      "    Package cairo was not found in the pkg-config search path.\n",
      "    Perhaps you should add the directory containing `cairo.pc'\n",
      "    to the PKG_CONFIG_PATH environment variable\n",
      "    Package 'cairo', required by 'virtual:world', not found\n",
      "    Command '['pkg-config', '--print-errors', '--exists', 'cairo >= 1.15.10']' returned non-zero exit status 1.\n",
      "    ----------------------------------------\n",
      "    ERROR: Failed building wheel for pycairo\n",
      "  Failed to build pycairo\n",
      "  ERROR: Could not build wheels for pycairo which use PEP 517 and cannot be installed directly\n",
      "  ----------------------------------------\u001b[0m\n",
      "\u001b[33mWARNING: Discarding https://files.pythonhosted.org/packages/0b/fd/56ac6898afc5c7f5718026103bd8f0b44714b6f79ac20d7eb8990c9a7eab/PyGObject-3.32.0.tar.gz#sha256=a4d6f6d8e688d28e07119fc83aabc6e7aad02057f48b2194089959d03654f695 (from https://pypi.org/simple/pygobject/). Command errored out with exit status 1: /opt/conda/envs/Python-3.9/bin/python /tmp/wsuser/pip-standalone-pip-8irn9ia4/__env_pip__.zip/pip install --ignore-installed --no-user --prefix /tmp/wsuser/pip-build-env-qlkv2h57/overlay --no-warn-script-location --no-binary :none: --only-binary :none: -i https://pypi.org/simple -- setuptools wheel pycairo Check the logs for full command output.\u001b[0m\n",
      "\u001b[?25h  Downloading PyGObject-3.30.5.tar.gz (690 kB)\n",
      "\u001b[K     |████████████████████████████████| 690 kB 64.3 MB/s eta 0:00:01\n",
      "\u001b[?25hCollecting pycairo>=1.11.1\n",
      "  Using cached pycairo-1.21.0.tar.gz (340 kB)\n",
      "  Installing build dependencies ... \u001b[?25ldone\n",
      "\u001b[?25h  Getting requirements to build wheel ... \u001b[?25ldone\n",
      "\u001b[?25h    Preparing wheel metadata ... \u001b[?25ldone\n",
      "\u001b[?25hBuilding wheels for collected packages: pygobject, pycairo\n",
      "  Building wheel for pygobject (setup.py) ... \u001b[?25lerror\n",
      "\u001b[31m  ERROR: Command errored out with exit status 1:\n",
      "   command: /opt/conda/envs/Python-3.9/bin/python -u -c 'import io, os, sys, setuptools, tokenize; sys.argv[0] = '\"'\"'/tmp/wsuser/pip-install-099m6k2t/pygobject_e943e42cba8840f3b2420b61c1eda153/setup.py'\"'\"'; __file__='\"'\"'/tmp/wsuser/pip-install-099m6k2t/pygobject_e943e42cba8840f3b2420b61c1eda153/setup.py'\"'\"';f = getattr(tokenize, '\"'\"'open'\"'\"', open)(__file__) if os.path.exists(__file__) else io.StringIO('\"'\"'from setuptools import setup; setup()'\"'\"');code = f.read().replace('\"'\"'\\r\\n'\"'\"', '\"'\"'\\n'\"'\"');f.close();exec(compile(code, __file__, '\"'\"'exec'\"'\"'))' bdist_wheel -d /tmp/wsuser/pip-wheel-20jn1rp7\n",
      "       cwd: /tmp/wsuser/pip-install-099m6k2t/pygobject_e943e42cba8840f3b2420b61c1eda153/\n",
      "  Complete output (43 lines):\n",
      "  running bdist_wheel\n",
      "  running build\n",
      "  running build_py\n",
      "  creating build\n",
      "  creating build/lib.linux-x86_64-3.9\n",
      "  creating build/lib.linux-x86_64-3.9/pygtkcompat\n",
      "  copying pygtkcompat/generictreemodel.py -> build/lib.linux-x86_64-3.9/pygtkcompat\n",
      "  copying pygtkcompat/__init__.py -> build/lib.linux-x86_64-3.9/pygtkcompat\n",
      "  copying pygtkcompat/pygtkcompat.py -> build/lib.linux-x86_64-3.9/pygtkcompat\n",
      "  creating build/lib.linux-x86_64-3.9/gi\n",
      "  copying gi/_option.py -> build/lib.linux-x86_64-3.9/gi\n",
      "  copying gi/importer.py -> build/lib.linux-x86_64-3.9/gi\n",
      "  copying gi/docstring.py -> build/lib.linux-x86_64-3.9/gi\n",
      "  copying gi/_constants.py -> build/lib.linux-x86_64-3.9/gi\n",
      "  copying gi/_ossighelper.py -> build/lib.linux-x86_64-3.9/gi\n",
      "  copying gi/module.py -> build/lib.linux-x86_64-3.9/gi\n",
      "  copying gi/__init__.py -> build/lib.linux-x86_64-3.9/gi\n",
      "  copying gi/pygtkcompat.py -> build/lib.linux-x86_64-3.9/gi\n",
      "  copying gi/_propertyhelper.py -> build/lib.linux-x86_64-3.9/gi\n",
      "  copying gi/_gtktemplate.py -> build/lib.linux-x86_64-3.9/gi\n",
      "  copying gi/_error.py -> build/lib.linux-x86_64-3.9/gi\n",
      "  copying gi/types.py -> build/lib.linux-x86_64-3.9/gi\n",
      "  copying gi/_compat.py -> build/lib.linux-x86_64-3.9/gi\n",
      "  copying gi/_signalhelper.py -> build/lib.linux-x86_64-3.9/gi\n",
      "  creating build/lib.linux-x86_64-3.9/gi/repository\n",
      "  copying gi/repository/__init__.py -> build/lib.linux-x86_64-3.9/gi/repository\n",
      "  creating build/lib.linux-x86_64-3.9/gi/overrides\n",
      "  copying gi/overrides/Gdk.py -> build/lib.linux-x86_64-3.9/gi/overrides\n",
      "  copying gi/overrides/Gtk.py -> build/lib.linux-x86_64-3.9/gi/overrides\n",
      "  copying gi/overrides/Gio.py -> build/lib.linux-x86_64-3.9/gi/overrides\n",
      "  copying gi/overrides/__init__.py -> build/lib.linux-x86_64-3.9/gi/overrides\n",
      "  copying gi/overrides/GIMarshallingTests.py -> build/lib.linux-x86_64-3.9/gi/overrides\n",
      "  copying gi/overrides/keysyms.py -> build/lib.linux-x86_64-3.9/gi/overrides\n",
      "  copying gi/overrides/Pango.py -> build/lib.linux-x86_64-3.9/gi/overrides\n",
      "  copying gi/overrides/GdkPixbuf.py -> build/lib.linux-x86_64-3.9/gi/overrides\n",
      "  copying gi/overrides/GLib.py -> build/lib.linux-x86_64-3.9/gi/overrides\n",
      "  copying gi/overrides/GObject.py -> build/lib.linux-x86_64-3.9/gi/overrides\n",
      "  running build_ext\n",
      "  Package glib-2.0 was not found in the pkg-config search path.\n",
      "  Perhaps you should add the directory containing `glib-2.0.pc'\n",
      "  to the PKG_CONFIG_PATH environment variable\n",
      "  Package 'glib-2.0', required by 'virtual:world', not found\n",
      "  Command '('pkg-config', '--print-errors', '--exists', 'glib-2.0 >= 2.38.0')' returned non-zero exit status 1.\n",
      "  ----------------------------------------\u001b[0m\n",
      "\u001b[31m  ERROR: Failed building wheel for pygobject\u001b[0m\n",
      "\u001b[?25h  Running setup.py clean for pygobject\n",
      "  Building wheel for pycairo (PEP 517) ... \u001b[?25lerror\n",
      "\u001b[31m  ERROR: Command errored out with exit status 1:\n",
      "   command: /opt/conda/envs/Python-3.9/bin/python /opt/conda/envs/Python-3.9/lib/python3.9/site-packages/pip/_vendor/pep517/in_process/_in_process.py build_wheel /tmp/wsuser/tmp3gkfwkkv\n",
      "       cwd: /tmp/wsuser/pip-install-099m6k2t/pycairo_1d870f7c8f4744b48f6fa72525fe5b70\n",
      "  Complete output (15 lines):\n",
      "  running bdist_wheel\n",
      "  running build\n",
      "  running build_py\n",
      "  creating build\n",
      "  creating build/lib.linux-x86_64-cpython-39\n",
      "  creating build/lib.linux-x86_64-cpython-39/cairo\n",
      "  copying cairo/__init__.py -> build/lib.linux-x86_64-cpython-39/cairo\n",
      "  copying cairo/__init__.pyi -> build/lib.linux-x86_64-cpython-39/cairo\n",
      "  copying cairo/py.typed -> build/lib.linux-x86_64-cpython-39/cairo\n",
      "  running build_ext\n",
      "  Package cairo was not found in the pkg-config search path.\n",
      "  Perhaps you should add the directory containing `cairo.pc'\n",
      "  to the PKG_CONFIG_PATH environment variable\n",
      "  Package 'cairo', required by 'virtual:world', not found\n",
      "  Command '['pkg-config', '--print-errors', '--exists', 'cairo >= 1.15.10']' returned non-zero exit status 1.\n",
      "  ----------------------------------------\u001b[0m\n",
      "\u001b[31m  ERROR: Failed building wheel for pycairo\u001b[0m\n",
      "\u001b[?25hFailed to build pygobject pycairo\n",
      "\u001b[31mERROR: Could not build wheels for pycairo which use PEP 517 and cannot be installed directly\u001b[0m\n",
      "Note: you may need to restart the kernel to use updated packages.\n"
     ]
    }
   ],
   "source": [
    "pip install pygobject"
   ]
  },
  {
   "cell_type": "code",
   "execution_count": 44,
   "metadata": {},
   "outputs": [],
   "source": [
    "def message(val):\n",
    "  if val==1:\n",
    "    from twilio.rest import Client\n",
    "    print('Forest fire')\n",
    "    account_sid='AC6be2d13a80de59f51a5fe3ba2bf9d6f1'\n",
    "    auth_token='00ac87e22f4bbc807a00a5ca30eedd1e'\n",
    "    client=Client(account_sid,auth_token)\n",
    "    message=client.messages \\\n",
    "     .create(\n",
    "        body='forest fire is detected, stay alert',\n",
    "        #use twilio free number\n",
    "        from_='+14793912961',\n",
    "        #to number\n",
    "        to='+917358579433')\n",
    "    print(message.sid)\n",
    "    print(\"Fire detected\")\n",
    "    print(\"SMS Sent!\")\n",
    "  elif val==0:\n",
    "    print('No Fire')"
   ]
  },
  {
   "cell_type": "code",
   "execution_count": 46,
   "metadata": {},
   "outputs": [
    {
     "data": {
      "image/png": "[encoded data removed]",
      "text/plain": [
       "<Figure size 432x288 with 1 Axes>"
      ]
     },
     "metadata": {
      "needs_background": "light"
     },
     "output_type": "display_data"
    },
    {
     "name": "stdout",
     "output_type": "stream",
     "text": [
      "Forest fire\n",
      "SMd18f5a20c3ef69c4b16839d009039f84\n",
      "Fire detected\n",
      "SMS Sent!\n"
     ]
    }
   ],
   "source": [
    "from matplotlib import pyplot as plt\n",
    "from keras.models import load_model\n",
    "from tensorflow.keras.preprocessing import image\n",
    "img1 = image.load_img('/home/wsuser/work/Dataset/Dataset/test_set/with fire/deerfire_high_res_edit.jpg',target_size=(64,64))\n",
    "Y = image.img_to_array(img1)\n",
    "x = np.expand_dims(Y,axis=0)\n",
    "val = model.predict(x)\n",
    "plt.imshow(img1)\n",
    "plt.show()\n",
    "message(val)"
   ]
  },
  {
   "cell_type": "code",
   "execution_count": 48,
   "metadata": {},
   "outputs": [
    {
     "data": {
      "image/png": "[encoded data removed]",
      "text/plain": [
       "<Figure size 432x288 with 1 Axes>"
      ]
     },
     "metadata": {
      "needs_background": "light"
     },
     "output_type": "display_data"
    }
   ],
   "source": [
    "img2 = image.load_img('/home/wsuser/work/Dataset/Dataset/test_set/forest/beautiful_morning_mountain_forest_scenery_free_stock_photos_picjumbo_DSC02176.jpg',target_size=(64,64))\n",
    "Y = image.img_to_array(img2)\n",
    "x = np.expand_dims(Y,axis=0)\n",
    "val = model.predict(x)\n",
    "plt.imshow(img2)\n",
    "plt.show()\n",
    "message(val)"
   ]
  },
  {
   "cell_type": "code",
   "execution_count": 49,
   "metadata": {},
   "outputs": [],
   "source": [
    "from ibm_watson_machine_learning import APIClient\n",
    "wml_credentials={\"url\":\"https://us-south.ml.cloud.ibm.com\",\"apikey\":\"TFXoHzN3M76f8UM68mdo_MshGtF2Dk1H56fJ67oDagbV\"}\n",
    "client=APIClient(wml_credentials)"
   ]
  },
  {
   "cell_type": "code",
   "execution_count": 50,
   "metadata": {},
   "outputs": [],
   "source": [
    "def guid_from_space_name(client,space_name):\n",
    "    space=client.spaces.get_details()\n",
    "    return(next(item for item in space['resources']if item['entity'][\"name\"]==space_name)['metadata']['id'])"
   ]
  },
  {
   "cell_type": "code",
   "execution_count": 51,
   "metadata": {},
   "outputs": [
    {
     "name": "stdout",
     "output_type": "stream",
     "text": [
      "Space UID= 0fdc8761-74e3-454d-9aa8-bcdb321a5482\n"
     ]
    }
   ],
   "source": [
    "space_uid=guid_from_space_name(client,'imageclassification')\n",
    "print(\"Space UID= \"+space_uid)"
   ]
  },
  {
   "cell_type": "code",
   "execution_count": 52,
   "metadata": {},
   "outputs": [
    {
     "data": {
      "text/plain": [
       "'SUCCESS'"
      ]
     },
     "execution_count": 52,
     "metadata": {},
     "output_type": "execute_result"
    }
   ],
   "source": [
    "client.set.default_space(space_uid)"
   ]
  },
  {
   "cell_type": "code",
   "execution_count": 53,
   "metadata": {},
   "outputs": [
    {
     "name": "stdout",
     "output_type": "stream",
     "text": [
      "-----------------------------  ------------------------------------  ----\n",
      "NAME                           ASSET_ID                              TYPE\n",
      "default_py3.6                  0062b8c9-8b7d-44a0-a9b9-46c416adcbd9  base\n",
      "kernel-spark3.2-scala2.12      020d69ce-7ac1-5e68-ac1a-31189867356a  base\n",
      "pytorch-onnx_1.3-py3.7-edt     069ea134-3346-5748-b513-49120e15d288  base\n",
      "scikit-learn_0.20-py3.6        09c5a1d0-9c1e-4473-a344-eb7b665ff687  base\n",
      "spark-mllib_3.0-scala_2.12     09f4cff0-90a7-5899-b9ed-1ef348aebdee  base\n",
      "pytorch-onnx_rt22.1-py3.9      0b848dd4-e681-5599-be41-b5f6fccc6471  base\n",
      "ai-function_0.1-py3.6          0cdb0f1e-5376-4f4d-92dd-da3b69aa9bda  base\n",
      "shiny-r3.6                     0e6e79df-875e-4f24-8ae9-62dcc2148306  base\n",
      "tensorflow_2.4-py3.7-horovod   1092590a-307d-563d-9b62-4eb7d64b3f22  base\n",
      "pytorch_1.1-py3.6              10ac12d6-6b30-4ccd-8392-3e922c096a92  base\n",
      "tensorflow_1.15-py3.6-ddl      111e41b3-de2d-5422-a4d6-bf776828c4b7  base\n",
      "autoai-kb_rt22.2-py3.10        125b6d9a-5b1f-5e8d-972a-b251688ccf40  base\n",
      "runtime-22.1-py3.9             12b83a17-24d8-5082-900f-0ab31fbfd3cb  base\n",
      "scikit-learn_0.22-py3.6        154010fa-5b3b-4ac1-82af-4d5ee5abbc85  base\n",
      "default_r3.6                   1b70aec3-ab34-4b87-8aa0-a4a3c8296a36  base\n",
      "pytorch-onnx_1.3-py3.6         1bc6029a-cc97-56da-b8e0-39c3880dbbe7  base\n",
      "kernel-spark3.3-r3.6           1c9e5454-f216-59dd-a20e-474a5cdf5988  base\n",
      "pytorch-onnx_rt22.1-py3.9-edt  1d362186-7ad5-5b59-8b6c-9d0880bde37f  base\n",
      "tensorflow_2.1-py3.6           1eb25b84-d6ed-5dde-b6a5-3fbdf1665666  base\n",
      "spark-mllib_3.2                20047f72-0a98-58c7-9ff5-a77b012eb8f5  base\n",
      "tensorflow_2.4-py3.8-horovod   217c16f6-178f-56bf-824a-b19f20564c49  base\n",
      "runtime-22.1-py3.9-cuda        26215f05-08c3-5a41-a1b0-da66306ce658  base\n",
      "do_py3.8                       295addb5-9ef9-547e-9bf4-92ae3563e720  base\n",
      "autoai-ts_3.8-py3.8            2aa0c932-798f-5ae9-abd6-15e0c2402fb5  base\n",
      "tensorflow_1.15-py3.6          2b73a275-7cbf-420b-a912-eae7f436e0bc  base\n",
      "kernel-spark3.3-py3.9          2b7961e2-e3b1-5a8c-a491-482c8368839a  base\n",
      "pytorch_1.2-py3.6              2c8ef57d-2687-4b7d-acce-01f94976dac1  base\n",
      "spark-mllib_2.3                2e51f700-bca0-4b0d-88dc-5c6791338875  base\n",
      "pytorch-onnx_1.1-py3.6-edt     32983cea-3f32-4400-8965-dde874a8d67e  base\n",
      "spark-mllib_3.0-py37           36507ebe-8770-55ba-ab2a-eafe787600e9  base\n",
      "spark-mllib_2.4                390d21f8-e58b-4fac-9c55-d7ceda621326  base\n",
      "autoai-ts_rt22.2-py3.10        396b2e83-0953-5b86-9a55-7ce1628a406f  base\n",
      "xgboost_0.82-py3.6             39e31acd-5f30-41dc-ae44-60233c80306e  base\n",
      "pytorch-onnx_1.2-py3.6-edt     40589d0e-7019-4e28-8daa-fb03b6f4fe12  base\n",
      "pytorch-onnx_rt22.2-py3.10     40e73f55-783a-5535-b3fa-0c8b94291431  base\n",
      "default_r36py38                41c247d3-45f8-5a71-b065-8580229facf0  base\n",
      "autoai-ts_rt22.1-py3.9         4269d26e-07ba-5d40-8f66-2d495b0c71f7  base\n",
      "autoai-obm_3.0                 42b92e18-d9ab-567f-988a-4240ba1ed5f7  base\n",
      "pmml-3.0_4.3                   493bcb95-16f1-5bc5-bee8-81b8af80e9c7  base\n",
      "spark-mllib_2.4-r_3.6          49403dff-92e9-4c87-a3d7-a42d0021c095  base\n",
      "xgboost_0.90-py3.6             4ff8d6c2-1343-4c18-85e1-689c965304d3  base\n",
      "pytorch-onnx_1.1-py3.6         50f95b2a-bc16-43bb-bc94-b0bed208c60b  base\n",
      "autoai-ts_3.9-py3.8            52c57136-80fa-572e-8728-a5e7cbb42cde  base\n",
      "spark-mllib_2.4-scala_2.11     55a70f99-7320-4be5-9fb9-9edb5a443af5  base\n",
      "spark-mllib_3.0                5c1b0ca2-4977-5c2e-9439-ffd44ea8ffe9  base\n",
      "autoai-obm_2.0                 5c2e37fa-80b8-5e77-840f-d912469614ee  base\n",
      "spss-modeler_18.1              5c3cad7e-507f-4b2a-a9a3-ab53a21dee8b  base\n",
      "cuda-py3.8                     5d3232bf-c86b-5df4-a2cd-7bb870a1cd4e  base\n",
      "runtime-22.2-py3.10-xc         5e8cddff-db4a-5a6a-b8aa-2d4af9864dab  base\n",
      "autoai-kb_3.1-py3.7            632d4b22-10aa-5180-88f0-f52dfb6444d7  base\n",
      "-----------------------------  ------------------------------------  ----\n",
      "Note: Only first 50 records were displayed. To display more use 'limit' parameter.\n"
     ]
    }
   ],
   "source": [
    "client.software_specifications.list()"
   ]
  },
  {
   "cell_type": "code",
   "execution_count": 54,
   "metadata": {},
   "outputs": [
    {
     "data": {
      "text/plain": [
       "'2b73a275-7cbf-420b-a912-eae7f436e0bc'"
      ]
     },
     "execution_count": 54,
     "metadata": {},
     "output_type": "execute_result"
    }
   ],
   "source": [
    "software_spec_uid=client.software_specifications.get_uid_by_name(\"tensorflow_1.15-py3.6\")\n",
    "software_spec_uid"
   ]
  },
  {
   "cell_type": "code",
   "execution_count": 55,
   "metadata": {},
   "outputs": [
    {
     "data": {
      "text/plain": [
       "<module 'keras.api._v2.keras' from '/opt/conda/envs/Python-3.9/lib/python3.9/site-packages/keras/api/_v2/keras/__init__.py'>"
      ]
     },
     "execution_count": 55,
     "metadata": {},
     "output_type": "execute_result"
    }
   ],
   "source": [
    "keras"
   ]
  }
 ],
 "metadata": {
  "kernelspec": {
   "display_name": "Python 3.9",
   "language": "python",
   "name": "python3"
  },
  "language_info": {
   "codemirror_mode": {
    "name": "ipython",
    "version": 3
   },
   "file_extension": ".py",
   "mimetype": "text/x-python",
   "name": "python",
   "nbconvert_exporter": "python",
   "pygments_lexer": "ipython3",
   "version": "3.9.13"
  }
 },
 "nbformat": 4,
 "nbformat_minor": 1
}
